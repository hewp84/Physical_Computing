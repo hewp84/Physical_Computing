{
  "nbformat": 4,
  "nbformat_minor": 0,
  "metadata": {
    "colab": {
      "provenance": [],
      "include_colab_link": true
    },
    "kernelspec": {
      "name": "python3",
      "display_name": "Python 3"
    },
    "language_info": {
      "name": "python"
    }
  },
  "cells": [
    {
      "cell_type": "markdown",
      "metadata": {
        "id": "view-in-github",
        "colab_type": "text"
      },
      "source": [
        "<a href=\"https://colab.research.google.com/github/hewp84/Physical_Computing/blob/main/documents/Lesson1_Part2.ipynb\" target=\"_parent\"><img src=\"https://colab.research.google.com/assets/colab-badge.svg\" alt=\"Open In Colab\"/></a>"
      ]
    },
    {
      "cell_type": "markdown",
      "source": [
        "# Lesson 1.2  Booting up the Raspberry Pi"
      ],
      "metadata": {
        "id": "G4yusW2oTNe2"
      }
    },
    {
      "cell_type": "markdown",
      "source": [
        "##Learning Goals\n",
        "\n",
        "Students will be able to:\n",
        "\n",
        "1.   Model the essential steps to setup a Raspberry Pi OS.\n",
        "\n",
        "\n"
      ],
      "metadata": {
        "id": "QtA-xYTYTuyf"
      }
    },
    {
      "cell_type": "markdown",
      "source": [
        "## Edge computer setup for headless access\n",
        "\n",
        "Raspberry Pi is a small and light edge computer. We will use Raspberry Pi as a headless system. A headless \n",
        "system is a device or computer system that can be operated without any physical interfaces like a monitor, \n",
        "keyboard, or mouse. As long as we have a network connection with Raspberry Pi, it is possible to access \n",
        "Raspberry Pi remotely at any time. We will be preparing the headless setup and accessing Raspberry Pi via \n",
        "ethernet cable without physical interfaces. You will install Raspberry Pi OS and prepare the headless \n",
        "setup using the ethernet cable\n",
        "\n",
        "\n",
        "### Install Raspberry Pi Desktop\n",
        "\n",
        "In order to use the Raspberry Pi, you need to make sure an operating system (OS) is installed on the Micro-SD card that will be inserted to the Raspberry Pi. Some of the Micro-SD cards that come with Raspberry Pi kits have the OS pre-installed. However, the following steps outline how to install the Raspberry PI OS if you are using a blank/fresh SD card. \n",
        "\n",
        "1. Connecting Hardware.\n",
        "  a. Connect USB Keybopard and mouse.\n",
        "  b. (Discharge first!!!! Touch metalic plate) Insert MicroSD into the slot below the RBP.\n",
        "  c. Connect to HDMI display. Make sure you use the port closest to Power source port.\n",
        "  d. Connect Power source to outlet.\n",
        "\n",
        "Troubleshoot tip: In case a rainbow screen displays, make sure you are connecting to the right ports. In case, black screen appears, unplug and plug back the HDMI cable.\n",
        "\n",
        "2. Connect to local Wifi with access to internet. \n",
        "\n",
        "3. Install OS by selecting \"Raspberry Pi OS Full (32 bits) with Desktop. (This should take around 15-20 minutes). \n",
        "\n",
        "4. Configure Time/Language/Country parameters\n",
        "\n",
        "5. Create New User. Request username and password to the professor.\n",
        "\n",
        "6. Connect to Wifi network again.\n",
        "\n",
        "7. Follow prompts to update software. (This should take around 15-20 minutes). You can install Putty and VNC if you have not had a chance.\n",
        "\n",
        "Troubleshoot tip: In case a rainbow screen displays, make sure you are connecting to the right ports. In case, black screen appears, unplug and plug back the HDMI cable.\n",
        "\n",
        "\n",
        "\n",
        " After rebooting Raspberry Pi, you will see the screen like Figure 1. Task bar icons are described in Figure 2.\n",
        "\n",
        "![picture](https://github.com/hewp84/tinyml/blob/main/img/PL1_Figure7.png?raw=true)\n",
        "\n",
        "*Figure 1 Main screen of Raspberry Pi Desktop*\n",
        "\n",
        "![picture](https://github.com/hewp84/tinyml/blob/main/img/PL1_Figure8.png?raw=true)\n",
        "\n",
        "*Figure 2 Task bar icon*\n",
        "\n"
      ],
      "metadata": {
        "id": "azo8pm7qTSYe"
      }
    },
    {
      "cell_type": "markdown",
      "source": [
        "### RBP paramaters: Change device name and enable access\n",
        "\n",
        "Once the Raspberry Pi can boot to do the desktop, and your initial setup is done, lets configure the Pi to our needs.\n",
        "\n",
        "The default computer name is ‘raspberrypi’. We will change this, to distinguish your own Raspberry Pi between others. Follow the steps below:\n",
        "1. Click the 'Menu' icon\n",
        "2. Drop down 'Preferences'\n",
        "3. Click 'Raspberry Pi Configuration'\n",
        "4. Change 'Hostname' from 'raspberrypi' to your name in 'System' tab\n",
        "  a. Name rule is 'firstnamelastname' (e.g., johndoe)\n",
        "5. Click 'Ok'\n",
        "6. Reboot Raspberry Pi\n",
        "* Command of reboot is ‘sudo reboot’ in ‘Terminal’. The shortcut to open ‘Terminal’ of Raspberry Pi is Ctrl+Alt+t.\n",
        "\n",
        "![picture](https://github.com/hewp84/tinyml/blob/main/img/PL1_Figure9.png?raw=true)\n",
        "\n",
        "*Figure 3 Change Hostname*\n",
        "\n",
        "---\n",
        "**Reboot command of Raspberry Pi**\n",
        "\n",
        "**Raspberry Pi - Terminal**\n",
        "\n",
        "`sudo reboot`\n",
        "\n",
        "---\n",
        "\n",
        "After rebooting your Raspberry Pi, if you open ‘Terminal’ you will see the changed computer name (Figure 4)\n",
        "\n",
        "![picture](https://github.com/hewp84/tinyml/blob/main/img/PL1_Figure10.png?raw=true)\n",
        "\n",
        "*Figure 4 Terminal after rebooting*\n",
        "\n"
      ],
      "metadata": {
        "id": "fY5OB9RyTysx"
      }
    },
    {
      "cell_type": "markdown",
      "source": [
        "Now, we will enable Raspberry Pi to be accessible remotely via a network. Follow the step below.\n",
        "1. Click ‘Menu’\n",
        "2. ‘Preferences’\n",
        "3. Click ‘Raspberry Pi Configuration’\n",
        "4. Click ‘Interfaces’ tab\n",
        "5. Click ‘Enable’ for both ‘SSH’ and ‘VNC’\n",
        "  * you may also enable SPI and I2C right now, since we will need these later in the lab.\n",
        "6. Reboot Raspberry Pi\n",
        "After rebooting your Raspberry Pi, you will find VNC server icon on the right top corner.\n",
        "\n",
        "![picture](https://github.com/hewp84/tinyml/blob/main/img/PL1_Figure11.png?raw=true)\n",
        "\n",
        "*Figure 5 Enabling SSH and VNC*\n",
        "\n",
        "SSH (Secure Shell) is a network communication protocol that enables two computers to communicate and share data. An inherent feature of SSH is that communication between the two computers is encrypted meaning that is suitable for use on an insecure network. VNC (Virtual Network Computing) is a cross-platform screen sharing (GUI, Graphical User Interface, sharing) system that was created to remotely control another computer. Since the RealVNC server is a default package of the Raspberry Pi as mentioned in Prerequisite, we can use VNC Viewer for access remotely without further software installation on Raspberry Pi."
      ],
      "metadata": {
        "id": "4s-285HrT7Mp"
      }
    },
    {
      "cell_type": "markdown",
      "source": [
        "You can check the IP address on Raspberry Pi using the following command.  Please record the IP address of the RBP as you will need it for the Part 3\n",
        "\n",
        "---\n",
        "\n",
        "\n",
        "**Raspberry Pi - Terminal**\n",
        "\n",
        "`ifconfig`\n",
        "\n",
        "---"
      ],
      "metadata": {
        "id": "jMDQGSrNV5Ai"
      }
    }
  ]
}