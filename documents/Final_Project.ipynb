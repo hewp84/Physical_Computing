{
 "cells": [
  {
   "cell_type": "markdown",
   "id": "4042011d-2943-4b4a-970d-39cdc8ea0c89",
   "metadata": {},
   "source": [
    "# Physical Computing Final Project"
   ]
  },
  {
   "cell_type": "markdown",
   "id": "bcbd779e-0664-4b5d-8eaa-1c6a873a182a",
   "metadata": {},
   "source": [
    "## Engineering Design Process\n",
    "\n",
    "![Image](https://raw.githubusercontent.com/hewp84/Physical_Computing/main/img/edp.png)\n",
    "\n",
    "### S1. Ask: \n",
    "In physical computing, the ask stage involves identifying the problem or challenge that needs to be solved. This could be something as simple as building a prototype for a new device or developing a more complex system that solves a specific problem. Asking the right questions at this stage is critical to understanding the problem and determining the project's goals and constraints.\n",
    "\n",
    "### S2.Imagine: \n",
    "Once the problem has been identified, the imagine stage involves brainstorming and generating possible solutions. This is the time to be creative and think outside the box, exploring different ideas and approaches to solving the problem. During this stage, use tools like mind maps, sketches, or other ideation techniques to generate ideas.\n",
    "\n",
    "### S3. Plan: \n",
    "After generating potential solutions, the plan stage involves selecting the best idea and developing a detailed plan for building a prototype or final product. This includes identifying the necessary materials, tools, and resources, and creating a timeline for the project. You can use circuit blueprint tools such as Fritzing.\n",
    "\n",
    "### S4. Create: \n",
    "With a solid plan in place, the create stage involves building a physical prototype or final product. This involves programming a microcontroller (RBPi, RBPi Pico, Arduino, etc), assembling electronic components, or constructing a mechanical device. During this stage, you may use tools like 3D printers, laser cutters, and other fabrication equipment.\n",
    "\n",
    "### S5. Test: \n",
    "Once the prototype or final product has been created, the test stage involves evaluating its performance and functionality. This could involve running tests to ensure that the device operates as intended, identifying any issues or bugs that need to be addressed, and collecting data on the device's performance.\n",
    "\n",
    "### S6. Improve: \n",
    "Based on the testing results, the improve stage involves making any necessary changes or modifications to the prototype or final product. This could involve adjusting the code, tweaking the hardware, or refining the design to improve its performance or usability. The improve stage is an iterative process, with testing and refining the solutions until meeting the project's goals and constraints."
   ]
  },
  {
   "cell_type": "code",
   "execution_count": null,
   "id": "3bc88332-b577-4620-a7a8-eeba008c0038",
   "metadata": {},
   "outputs": [],
   "source": []
  }
 ],
 "metadata": {
  "kernelspec": {
   "display_name": "Python 3 (ipykernel)",
   "language": "python",
   "name": "python3"
  },
  "language_info": {
   "codemirror_mode": {
    "name": "ipython",
    "version": 3
   },
   "file_extension": ".py",
   "mimetype": "text/x-python",
   "name": "python",
   "nbconvert_exporter": "python",
   "pygments_lexer": "ipython3",
   "version": "3.9.13"
  }
 },
 "nbformat": 4,
 "nbformat_minor": 5
}
