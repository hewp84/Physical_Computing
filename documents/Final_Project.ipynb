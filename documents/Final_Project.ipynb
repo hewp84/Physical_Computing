{
 "cells": [
  {
   "cell_type": "markdown",
   "id": "4042011d-2943-4b4a-970d-39cdc8ea0c89",
   "metadata": {},
   "source": [
    "# Physical Computing Final Project"
   ]
  },
  {
   "cell_type": "markdown",
   "id": "bcbd779e-0664-4b5d-8eaa-1c6a873a182a",
   "metadata": {},
   "source": [
    "## Engineering Design Process\n",
    "\n"
   ]
  }
 ],
 "metadata": {
  "kernelspec": {
   "display_name": "Python 3 (ipykernel)",
   "language": "python",
   "name": "python3"
  },
  "language_info": {
   "codemirror_mode": {
    "name": "ipython",
    "version": 3
   },
   "file_extension": ".py",
   "mimetype": "text/x-python",
   "name": "python",
   "nbconvert_exporter": "python",
   "pygments_lexer": "ipython3",
   "version": "3.9.13"
  }
 },
 "nbformat": 4,
 "nbformat_minor": 5
}
