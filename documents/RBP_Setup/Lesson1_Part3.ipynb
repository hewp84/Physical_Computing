{
  "nbformat": 4,
  "nbformat_minor": 0,
  "metadata": {
    "colab": {
      "provenance": [],
      "include_colab_link": true
    },
    "kernelspec": {
      "name": "python3",
      "display_name": "Python 3"
    },
    "language_info": {
      "name": "python"
    }
  },
  "cells": [
    {
      "cell_type": "markdown",
      "metadata": {
        "id": "view-in-github",
        "colab_type": "text"
      },
      "source": [
        "<a href=\"https://colab.research.google.com/github/hewp84/Physical_Computing/blob/main/documents/Lesson1_Part3.ipynb\" target=\"_parent\"><img src=\"https://colab.research.google.com/assets/colab-badge.svg\" alt=\"Open In Colab\"/></a>"
      ]
    },
    {
      "cell_type": "markdown",
      "source": [
        "# Lesson 1.3 Edge Computer and Headless Environment Setup"
      ],
      "metadata": {
        "id": "H5EyoTH187mw"
      }
    },
    {
      "cell_type": "markdown",
      "source": [
        "## Introduction\n",
        "\n",
        "Headless and remote access allows us to control and manage the edge device without hardware interface \n",
        "and visiting the site. In this section, you will make the wireless or wired connection of Raspberry Pi to a network and \n",
        "access it using SSH and VNC software.\n"
      ],
      "metadata": {
        "id": "dW4pyRPq881B"
      }
    },
    {
      "cell_type": "markdown",
      "source": [
        "## Remote Access"
      ],
      "metadata": {
        "id": "UNpKAFHa89af"
      }
    },
    {
      "cell_type": "markdown",
      "source": [
        "You’ve installed PuTTY on your laptop. Follow the direction below. \n",
        "\n",
        "1. Run Putty on your laptop\n",
        "2. Type your IP address in ‘Host Name for IP address’ (either ‘eth0’ or ‘wlan0’)\n",
        "\n",
        "![picture](https://github.com/hewp84/tinyml/blob/main/img/L1_Image1_2.png?raw=true)\n",
        "\n",
        "3. Click ‘Open’\n",
        "4. Type your login username (account) and hit Enter; Default is ‘pi’.\n",
        "5. Type your password and hit Enter.\n",
        "\n",
        "![picture](https://github.com/hewp84/tinyml/blob/main/img/L1_Figure1.png?raw=true)\n",
        "\n",
        "*Figure 1 SSH access to Raspberry Pi*\n",
        "\n",
        "You will see a new terminal window like ‘Terminal’ of Raspberry Pi, shown in Figure 1. itis the same terminal \n",
        "window. Now, remove all interface connections such as keyboard, mouse, and monitor other than power cable \n",
        "and ethernet cable (if still needed). This is SSH access to headless computer. Through SSH access, you can do all: \n",
        "manage file systems, write code, install packages, and so on.\n",
        "\n",
        "Let’s try to install a Linux package. Install ‘tmux’ package on your Raspberry Pi using command below.\n",
        "\n",
        "\n",
        "---\n",
        "\n",
        "**Raspberry Pi via SSH - Terminal**\n",
        "\n",
        "`man apt`\n",
        "\n",
        "---\n",
        "\n",
        "* This showsthe manual document of ‘apt’ command.\n",
        "* Tips: to change page, press PgUp or PgDn and to exit, press 'q'.\n",
        "\n",
        "![picture](https://github.com/hewp84/tinyml/blob/main/img/L1_Figure2.png?raw=true)\n",
        "*Figure 2 Manual of 'apt' command*\n"
      ],
      "metadata": {
        "id": "yQMaycy189i3"
      }
    },
    {
      "cell_type": "markdown",
      "source": [
        "## VNC access using VNC Viewer\n",
        "\n",
        "You’ve installed VNC Viewer on your laptop. Follow the direction below. \n",
        "\n",
        "1. Run VNC Viewer on your laptop\n",
        "2. Type your IP address (‘eth0’ or ‘wlan0’) and then hit 'Enter'\n",
        "\n",
        "![picture](https://github.com/hewp84/tinyml/blob/main/img/L1_Image2.png?raw=true)\n",
        "\n",
        "3. Type your credentials (Username and Password) on the pop-up window\n",
        "\n",
        "![picture](https://github.com/hewp84/tinyml/blob/main/img/L1_Image3.png?raw=true)\n",
        "\n",
        "4. Click 'OK'\n",
        "\n",
        "Now, you will see the familiar screen like Figure 3. If you create an account of RealVNC \n",
        "(https://www.realvnc.com/en/raspberrypi/), we can also access Raspberry Pi via the Internet that means your \n",
        "laptop and Raspberry Pi do not need to be on the same local network for VNC access. Try it (optional). A nice \n",
        "instruction is in MagPi (https://magpi.raspberrypi.com/articles/vnc-raspberry-pi, available on Jan. 8, 2023). \n",
        "\n",
        "![picture](https://github.com/hewp84/tinyml/blob/main/img/L1_Figure3.png?raw=true)\n",
        "*Figure 3 VNC access via VNC Viewer*\n",
        "\n",
        "Keeping packages of your Raspberry Pi up to date is also important in many senses. Try to update and \n",
        "upgrade packages on Raspberry Pi via VNC access as followed (it may take more than 10 minutes if first).\n",
        "\n",
        "---\n",
        "**Raspberry Pi via VNC - Terminal**\n",
        "\n",
        "`sudo apt update`\n",
        "\n",
        "`sudo apt upgrade`\n",
        "\n",
        "---"
      ],
      "metadata": {
        "id": "YMsLQwRlBSMG"
      }
    },
    {
      "cell_type": "markdown",
      "source": [
        "**Troubleshooting Help**\n",
        "\n",
        "After you reboot Raspberry Pi without display connection to it, you may see VNC access error, “Cannot \n",
        "currently show the desktop” as Figure 4. This is because Raspberry Pi cannot have monitor output without any \n",
        "connected display. But SSH works. Try it:\n",
        "\n",
        "![picture](https://github.com/hewp84/tinyml/blob/main/img/L1_Figure4.png?raw=true)\n",
        "\n",
        "*Figure 4 VNC Viewer Error*\n",
        "\n",
        "To resolve this issue, you need to make Raspberry Pi have forced display input when booted. Follow the \n",
        "step below.\n",
        "\n",
        "1. Open 'Terminal'\n",
        "2. Type 'sudo nano /boot/config.txt'\n",
        "3. Write following at the end of 'config.txt'\n",
        "\n",
        "---\n",
        "**Raspberry Pi - /boot/config.txt**\n",
        "\n",
        "`hdmi_force_hotplug=1`\n",
        "\n",
        "`hdmi_group=2`\n",
        "\n",
        "`hdmi_mode=82`\n",
        "\n",
        "* hdmi_force_hotplug=1 means making a forced plugin of HDMI port 1.\n",
        "* hdmi_group=2 means DMT (Display Monitor Timings) group which is the same as a monitor.\n",
        "* hdmi_mode=82means resolution is 1920×1080 in 60 Hz. You can change resolution you want according to your \n",
        "preference or your laptop display resolution. Refer to Table and Raspberry Pi documentation \n",
        "(https://www.raspberrypi.com/documentation/computers/config_txt.html, available on Jan. 10, 2023)\n",
        "\n",
        "<table>\n",
        "<tbody>\n",
        "<tr>\n",
        "<td>hdmi_mode</td>\n",
        "<td>Resolution</td>\n",
        "<td>Aspect Ratio</td>\n",
        "<td>Refresh Rate</td>\n",
        "</tr>\n",
        "<tr>\n",
        "<td>5</td>\n",
        "<td>640x480 (480p)</td>\n",
        "<td>4:3</td>\n",
        "<td>60 Hz</td>\n",
        "</tr>\n",
        "<tr>\n",
        "<td>9</td>\n",
        "<td>800x600</td>\n",
        "<td>4:3</td>\n",
        "<td>60 Hz</td>\n",
        "</tr>\n",
        "<tr>\n",
        "<td>16</td>\n",
        "<td>1024x768</td>\n",
        "<td>4:3</td>\n",
        "<td>60 Hz</td>\n",
        "</tr>\n",
        "<tr>\n",
        "<td>51</td>\n",
        "<td>1600x1200</td>\n",
        "<td>4:3</td>\n",
        "<td>60 Hz</td>\n",
        "</tr>\n",
        "<tr>\n",
        "<td>82</td>\n",
        "<td>1920x1080 (1080p)</td>\n",
        "<td>4:3</td>\n",
        "<td>60 Hz</td>\n",
        "</tr>\n",
        "<tr>\n",
        "<td>85</td>\n",
        "<td>1280x720 (720p)</td>\n",
        "<td>4:3</td>\n",
        "<td>60 Hz</td>\n",
        "</tr>\n",
        "</tbody>\n",
        "</table>\n",
        "\n",
        "---\n",
        "\n",
        "After saving the ‘config.txt’ file, reboot Raspberry Pi. Try to access VNC again. Is it working?\n",
        "\n",
        "Now, you are all set for a headless computer for remote access. For further activities, you do not need to \n",
        "bring physical interfaces, a monitor, keyboard, or mouse.\n",
        "\n"
      ],
      "metadata": {
        "id": "N664Co0jCnbC"
      }
    }
  ]
}