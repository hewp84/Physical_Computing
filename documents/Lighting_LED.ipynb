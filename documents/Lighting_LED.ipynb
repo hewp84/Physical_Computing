{
 "cells": [
  {
   "cell_type": "markdown",
   "id": "a9439bee-05c8-45e1-91ab-74f2bc6be9ba",
   "metadata": {},
   "source": [
    "# Lighting an LED\n",
    "## Fixed signal\n",
    "To turn on an LED using Python and a Raspberry Pi, you will need to use the Raspberry Pi's \n",
    "General Purpose Input/Output (GPIO) pins. Here is a general overview of the steps you will need to take:\n",
    "\n",
    "Connect the LED to the Raspberry Pi's GPIO pins. Make sure to connect the negative (cathode) side of the LED \n",
    "to a GND pin on the Raspberry Pi, and the positive (anode) side of the LED to a GPIO pin (for example, pin 17).\n",
    "\n",
    "Install the RPi.GPIO library in Python, if it is not already installed. \n",
    "This library provides the necessary functions to control the GPIO pins on the Raspberry Pi. \n",
    "You can install it by running pip install RPi.GPIO in the command line.\n",
    "\n",
    "Import the RPi.GPIO library in your Python script."
   ]
  },
  {
   "cell_type": "code",
   "execution_count": null,
   "id": "7b3f2e22-67a6-4d2b-8bfd-ba287d9c74c2",
   "metadata": {},
   "outputs": [],
   "source": [
    "import RPi.GPIO as GPIO\n",
    "\n",
    "#Set the pin numbering mode for the RPi.GPIO library. You can use the BCM numbering mode, which refers to the Broadcom SOC channel numbers, or the BOARD numbering mode, which refers to the pin numbers on the header of the board.\n",
    "GPIO.setmode(GPIO.BCM) # or GPIO.BOARD\n",
    "\n",
    "#Set the chosen pin as an output.\n",
    "GPIO.setup(17, GPIO.OUT)\n",
    "#Turn on the LED by setting the output of the pin to High\n",
    "\n",
    "GPIO.output(17, True)\n",
    "#To turn off the LED, you can set the output of the pin to Low\n",
    "\n",
    "GPIO.output(17, False)\n",
    "\n",
    "#Finally, you should always clean up the GPIO settings when you are done using them\n",
    "GPIO.cleanup()\n"
   ]
  },
  {
   "cell_type": "markdown",
   "id": "ce56e236-3f02-4aed-bd40-92d435ca4b6d",
   "metadata": {},
   "source": [
    "## Blinking signal\n",
    "To turn on an LED using Python and a Raspberry Pi, with a time delay between turning the LED on and off, \n",
    "you can use the sleep() function from the time library. Here is an example of a script that will turn on an \n",
    "LED connected to GPIO pin 17 for 1 second, and then turn it off for 1 second, in a loop:"
   ]
  },
  {
   "cell_type": "code",
   "execution_count": null,
   "id": "fabff277-7dab-4427-95d4-2b3873cb6a61",
   "metadata": {},
   "outputs": [],
   "source": [
    "import RPi.GPIO as GPIO\n",
    "import time\n",
    "\n",
    "# Set the pin numbering mode to BCM\n",
    "GPIO.setmode(GPIO.BCM)\n",
    "\n",
    "# Set pin 17 as an output\n",
    "GPIO.setup(17, GPIO.OUT)\n",
    "\n",
    "# Loop to blink the LED\n",
    "while True:\n",
    "    # Turn on the LED\n",
    "    GPIO.output(17, True)\n",
    "    # Wait for 1 second\n",
    "    time.sleep(1)\n",
    "    # Turn off the LED\n",
    "    GPIO.output(17, False)\n",
    "    # Wait for 1 second\n",
    "    time.sleep(1)\n",
    "\n",
    "# Clean up the GPIO settings\n",
    "GPIO.cleanup()\n"
   ]
  },
  {
   "cell_type": "markdown",
   "id": "f87fcc1d-99fc-4091-a157-aa2e5c156bcf",
   "metadata": {},
   "source": [
    "## Lighting an LED using PWM signals\n",
    "In this script, the PWM class is used to create a PWM object, and the start() method is used to start PWM with a duty cycle of 0. The ChangeDutyCycle() method is used to change the duty cycle of the PWM, which in turn controls the brightness of the LED. You can adjust the PWM frequency and the range of the duty cycle to control the speed and the range of the fading effect.\n",
    "\n",
    "Please note that before running this script, you should make sure that the RPi.GPIO library is installed in your Raspberry Pi, and that you have connected the LED to the correct pin on the Raspberry Pi. And make sure to use the cleanup() function after the loop is done, to prevent damage to the pi.\n",
    "\n",
    "Also note that the time.sleep() function is used in the script to add a delay between changes in the duty cycle, to make the fading effect more visible.\n",
    "\n",
    "To turn on an LED using Python and a Raspberry Pi using Pulse Width Modulation (PWM), you can use the PWM class from the RPi.GPIO library. Here is an example of a script that will fade an LED connected to GPIO pin 17:"
   ]
  },
  {
   "cell_type": "code",
   "execution_count": null,
   "id": "59bb101f-7ca5-4600-b5a5-67af3ffaae34",
   "metadata": {},
   "outputs": [],
   "source": [
    "import RPi.GPIO as GPIO\n",
    "import time\n",
    "# Set the pin numbering mode to BCM\n",
    "GPIO.setmode(GPIO.BCM)\n",
    "\n",
    "# Set pin 17 as an output\n",
    "GPIO.setup(17, GPIO.OUT)\n",
    "\n",
    "# Set the PWM frequency to 100 Hz\n",
    "pwm = GPIO.PWM(17, 100)\n",
    "\n",
    "# Start PWM with a duty cycle of 0\n",
    "pwm.start(0)\n",
    "\n",
    "# Loop to fade the LED\n",
    "while True:\n",
    "    for i in range(100):\n",
    "        # Change the duty cycle to increase brightness\n",
    "        pwm.ChangeDutyCycle(i)\n",
    "        time.sleep(0.01)\n",
    "    for i in range(100, 0, -1):\n",
    "        # Change the duty cycle to decrease brightness\n",
    "        pwm.ChangeDutyCycle(i)\n",
    "        time.sleep(0.01)\n",
    "\n",
    "# Stop PWM and clean up\n",
    "pwm.stop()\n",
    "GPIO.cleanup()\n"
   ]
  }
 ],
 "metadata": {
  "kernelspec": {
   "display_name": "Python 3 (ipykernel)",
   "language": "python",
   "name": "python3"
  },
  "language_info": {
   "codemirror_mode": {
    "name": "ipython",
    "version": 3
   },
   "file_extension": ".py",
   "mimetype": "text/x-python",
   "name": "python",
   "nbconvert_exporter": "python",
   "pygments_lexer": "ipython3",
   "version": "3.9.13"
  }
 },
 "nbformat": 4,
 "nbformat_minor": 5
}
