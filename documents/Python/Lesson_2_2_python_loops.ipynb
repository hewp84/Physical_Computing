{
  "cells": [
    {
      "cell_type": "markdown",
      "metadata": {
        "id": "view-in-github",
        "colab_type": "text"
      },
      "source": [
        "<a href=\"https://colab.research.google.com/github/hewp84/Physical_Computing/blob/main/documents/Lesson_2_2_python_loops.ipynb\" target=\"_parent\"><img src=\"https://colab.research.google.com/assets/colab-badge.svg\" alt=\"Open In Colab\"/></a>"
      ]
    },
    {
      "cell_type": "markdown",
      "metadata": {
        "id": "Ta724WFqsaLY"
      },
      "source": [
        "# Basics of Python: Loops \n",
        "\n",
        "Let's review using loops in Python. \n",
        "\n",
        "Please run each cell and check the results."
      ]
    },
    {
      "cell_type": "markdown",
      "metadata": {
        "id": "lnBY7XmAsaLZ"
      },
      "source": [
        "## For-loop"
      ]
    },
    {
      "cell_type": "code",
      "execution_count": null,
      "metadata": {
        "id": "8xRlADvJsaLa"
      },
      "outputs": [],
      "source": [
        "# let's print all numbers between 0 and 9\n",
        "for i in range(10): print(i)\n",
        "# range(n) represents the list of all numbers from 0 to n-1\n",
        "# i is the variable to take the values in the range(n) iteratively: 0, 1, ..., 9 in our example"
      ]
    },
    {
      "cell_type": "code",
      "execution_count": null,
      "metadata": {
        "id": "dr8dJpC_saLc"
      },
      "outputs": [],
      "source": [
        "# let's write the same code in two lines\n",
        "for i in range(10): # do not forget to use colon\n",
        "    print(i)\n",
        "    # the second line is indented\n",
        "    # this means that the command in the second line will be executed inside the for-loop\n",
        "    # any other code executed inside the for-loop must be intented in the same way\n",
        "    #my_code_inside_for-loop_2 will come here\n",
        "    #my_code_inside_for-loop_3 will come here\n",
        "    #my_code_inside_for-loop_4 will come here\n",
        "# now I am out of the scope of for-loop\n",
        "#my_code_outside_for-loop_1 will come here\n",
        "#my_code_outside_for-loop_2 will come here"
      ]
    },
    {
      "cell_type": "code",
      "execution_count": null,
      "metadata": {
        "id": "VcY8vo5osaLc"
      },
      "outputs": [],
      "source": [
        "# let's calculate the summation 1+2+...+10 by using a for-loop\n",
        "\n",
        "# we use variable total for the total summation\n",
        "total = 0 \n",
        "for i in range(11): # do not forget to use colon\n",
        "    total = total + i # total is increased by i in each iteration\n",
        "    # alternatively, the same assignment can shortly be written as total += i similarly to languages C, C++, Java, etc.\n",
        "# now I am out of the scope of for-loop\n",
        "# let's print the latest value of total\n",
        "print(total)"
      ]
    },
    {
      "cell_type": "code",
      "execution_count": null,
      "metadata": {
        "id": "SnkIPRL8saLc"
      },
      "outputs": [],
      "source": [
        "# let's calculate the summation 10+12+14+...+44\n",
        "# we create a list having all numbers in the summation\n",
        "# for this purpose, this time we will use three parameters in range\n",
        "total = 0\n",
        "for j in range(10,45,2): # the range is defined between 10 and 44, and the value of j will be increased by 2 after each iteration\n",
        "    total += j # let's use the shortened version of total = total + j\n",
        "print(total)"
      ]
    },
    {
      "cell_type": "code",
      "execution_count": null,
      "metadata": {
        "id": "hih2D_MlsaLd"
      },
      "outputs": [],
      "source": [
        "# let's calculate the summation 1+2+4+8+16+...+256\n",
        "# remark that 256 = 2*2*...*2 (8 times)\n",
        "total = 0\n",
        "current_number = 1 # this value will be multiplied by 2 after each iteration\n",
        "for k in range(9):\n",
        "    total = total + current_number # current_number is 1 at the beginning, and its value will be doubled after each iteration\n",
        "    current_number = 2 * current_number # let's double the value of the current_number for the next iteration\n",
        "    # short version of the same assignment: current_number *= 2 as in the languages C, C++, Java, etc.\n",
        "# now I am out of the scope of for-loop\n",
        "# let's print the latest value of total\n",
        "print(total)"
      ]
    },
    {
      "cell_type": "code",
      "execution_count": null,
      "metadata": {
        "id": "IZ5-3qDZsaLd"
      },
      "outputs": [],
      "source": [
        "# instead of a range, we can directly use a list\n",
        "for i in [1,10,100,1000,10000]:\n",
        "    print(i)"
      ]
    },
    {
      "cell_type": "code",
      "execution_count": null,
      "metadata": {
        "id": "BEny0RSZsaLe"
      },
      "outputs": [],
      "source": [
        "# instead of [...], we can also use (...)\n",
        "# but this time it is a tuple, not a list (keep in your mind that the values in a tuple cannot be changed)\n",
        "for i in (1,10,100,1000,10000):\n",
        "    print(i)"
      ]
    },
    {
      "cell_type": "code",
      "execution_count": null,
      "metadata": {
        "id": "4w9RJdQfsaLe"
      },
      "outputs": [],
      "source": [
        "# let's create a range between 10 and 91 that contains the multiples of 7\n",
        "for j in range(14,92,7): \n",
        "    # 14 is the first multiple of 7 greater than or equal to 10\n",
        "    # 91 should be in the range, and so we write 92\n",
        "    print(j)"
      ]
    },
    {
      "cell_type": "code",
      "execution_count": null,
      "metadata": {
        "id": "Uk8FZ7ZNsaLe"
      },
      "outputs": [],
      "source": [
        "# let's create a range between 11 and 22\n",
        "for i in range(11,23):\n",
        "    print(i)"
      ]
    },
    {
      "cell_type": "code",
      "execution_count": null,
      "metadata": {
        "id": "ZTzWzoxvsaLe"
      },
      "outputs": [],
      "source": [
        "# we can also use variables in range\n",
        "n = 5\n",
        "for j in range(n,2*n): \n",
        "    print(j) # we will print all numbers in {n,n+1,n+2,...,2n-1}"
      ]
    },
    {
      "cell_type": "code",
      "execution_count": null,
      "metadata": {
        "id": "66-wMSxNsaLf"
      },
      "outputs": [],
      "source": [
        "# we can use a list of strings\n",
        "for name in (\"Liz\",\"Braden\",\"Andrew\"):\n",
        "    print(\"Hello\",name,\":-)\")"
      ]
    },
    {
      "cell_type": "code",
      "execution_count": null,
      "metadata": {
        "id": "8zZZ9-AYsaLf"
      },
      "outputs": [],
      "source": [
        "# any range can be converted to a list\n",
        "L1 = list(range(10))\n",
        "print(L1)\n",
        "\n",
        "L2 = list(range(55,200,11))\n",
        "print(L2)"
      ]
    },
    {
      "cell_type": "markdown",
      "metadata": {
        "id": "BXyWYtdtsaLf"
      },
      "source": [
        "### Exercise 1\n",
        "\n",
        "Calculate the value of summation $ 3+6+9+\\cdots+51 $, and then print the result.\n",
        "\n",
        "The result should be 459."
      ]
    },
    {
      "cell_type": "code",
      "execution_count": null,
      "metadata": {
        "id": "D8DkdVvfsaLf"
      },
      "outputs": [],
      "source": [
        "#\n",
        "# your solution is here\n",
        "#\n"
      ]
    },
    {
      "cell_type": "markdown",
      "metadata": {
        "id": "CD2TbTFUsaLg"
      },
      "source": [
        "### Exercise 2\n",
        "\n",
        "$ 3^k $ means $ 3 \\cdot 3 \\cdot \\cdots \\cdot 3 $ ($ k $ times) for $ k \\geq 2 $. \n",
        "\n",
        "Moreover, $ 3^0  $ is 1 and $ 3^1 = 3 $.\n",
        "\n",
        "Calculate the value of summation $ 3^0 + 3^1 + 3^2 + \\cdots + 3^8 $, and then print the result.\n",
        "\n",
        "The result should be 9841."
      ]
    },
    {
      "cell_type": "code",
      "execution_count": null,
      "metadata": {
        "id": "HK0oVBRssaLg"
      },
      "outputs": [],
      "source": [
        "#\n",
        "# your solution is here\n",
        "#\n"
      ]
    },
    {
      "cell_type": "markdown",
      "metadata": {
        "id": "_SZrxlF8saLg"
      },
      "source": [
        "## While-loop "
      ]
    },
    {
      "cell_type": "code",
      "execution_count": null,
      "metadata": {
        "id": "avvHLj6wsaLg"
      },
      "outputs": [],
      "source": [
        "# let's calculate the summation 1+2+4+8+...+256 by using a while-loop\n",
        "total = 0\n",
        "i = 1\n",
        "\n",
        "#while condition(s):\n",
        "#    your_code1\n",
        "#    your_code2\n",
        "#    your_code3\n",
        "while i < 257: # this loop iterates as long as i is less than 257\n",
        "    total = total + i\n",
        "    i = i * 2 # i is doubled in each iteration, and so soon it will be greater than 256\n",
        "    \n",
        "print(total)\n",
        "# remember that we calculated this summation as 511 before"
      ]
    },
    {
      "cell_type": "code",
      "execution_count": null,
      "metadata": {
        "id": "pi9SWV-msaLg"
      },
      "outputs": [],
      "source": [
        "L = [0,1,2,3,4,5,11] # this is a list containing 7 integer values\n",
        "i = 0\n",
        "while i in L: # this loop will be iterated as long as i is in L\n",
        "    print(i)\n",
        "    i = i + 1 # the value of i iteratively increased, and so soon it will hit a value not in the list L\n",
        "    \n",
        "# the loop is terminated after i is set to 6, because 6 is not in L"
      ]
    },
    {
      "cell_type": "code",
      "execution_count": null,
      "metadata": {
        "id": "g9hjwlb_saLg"
      },
      "outputs": [],
      "source": [
        "# let's use negation in the condition of while-loop\n",
        "L = [10] # this list has a single element\n",
        "i = 0\n",
        "while i not in L: # this loop will be iterated as long as i is not equal to 10\n",
        "    print(i)\n",
        "    i = i+1 # the value of i will hit 10 after ten iterations\n",
        "    "
      ]
    },
    {
      "cell_type": "code",
      "execution_count": null,
      "metadata": {
        "id": "MjhS_q9tsaLh"
      },
      "outputs": [],
      "source": [
        "# let's rewrite the same loop by using a direct inequality\n",
        "i = 0\n",
        "while i != 10: # \"!=\" is used for \"not equal to\" operator \n",
        "    print(i) \n",
        "    i=i+1"
      ]
    },
    {
      "cell_type": "code",
      "execution_count": null,
      "metadata": {
        "id": "u-tab6VYsaLh"
      },
      "outputs": [],
      "source": [
        "# let's rewrite the same loop by using negation of equality\n",
        "i = 0\n",
        "while not (i == 10): # \"==\" is used for \"equal to\" operator \n",
        "    print(i) \n",
        "    i=i+1\n",
        "    \n",
        "# while-loop seems having more fun :-)\n",
        "# but we should be more careful when writing the condition(s)!"
      ]
    },
    {
      "cell_type": "markdown",
      "metadata": {
        "id": "4V3BCSIEsaLh"
      },
      "source": [
        "Consider the summation $ S(n) =  1+ 2+ 3 + \\cdots + n $ for some natural number $ n $.\n",
        "\n",
        "Let's find the minimum value of $ n $ such that $ S(n) \\geq 1000 $.\n",
        "\n",
        "While-loop works very well for this task.\n",
        "<ul>\n",
        "    <li>We can iteratively increase $ n $ and update the value of $ S(n) $.</li>\n",
        "    <li>The loop iterates as long as $S(n)$ is less than 1000.</li>\n",
        "    <li>Once it hits 1000 or a greater number, the loop will be terminated.</li>\n",
        "</ul>"
      ]
    },
    {
      "cell_type": "code",
      "execution_count": null,
      "metadata": {
        "id": "P0BrpkoFsaLh"
      },
      "outputs": [],
      "source": [
        "# summation and n is zero at the beginning\n",
        "S = 0\n",
        "n = 0\n",
        "while S < 1000: # this loop will stop after S exceeds 999 (S = 1000 or S > 1000)\n",
        "    n = n +1\n",
        "    S = S + n\n",
        "# let's print n and S\n",
        "print(\"n =\",n,\" S =\",S)"
      ]
    },
    {
      "cell_type": "markdown",
      "metadata": {
        "id": "HqVRCgwAsaLi"
      },
      "source": [
        "### Exercise 3\n",
        "\n",
        "Randomly pick number(s) between 0 and 9 until hitting 3, and then print the number of attempt(s).\n",
        "\n",
        "We can use <i>randrange</i> function from <i>random</i> module for randomly picking a number in a given range."
      ]
    },
    {
      "cell_type": "code",
      "execution_count": null,
      "metadata": {
        "id": "M2O0PzvzsaLi"
      },
      "outputs": [],
      "source": [
        "# this is the code for including function randrange into our program \n",
        "from random import randrange\n",
        "# randrange(n) picks a number from the list [0,1,2,...,n-1] randomly\n",
        "#r = randrange(100)\n",
        "#print(r)\n",
        "\n",
        "#\n",
        "# your solution is here\n",
        "#\n"
      ]
    }
  ],
  "metadata": {
    "kernelspec": {
      "display_name": "Python 3",
      "language": "python",
      "name": "python3"
    },
    "language_info": {
      "codemirror_mode": {
        "name": "ipython",
        "version": 3
      },
      "file_extension": ".py",
      "mimetype": "text/x-python",
      "name": "python",
      "nbconvert_exporter": "python",
      "pygments_lexer": "ipython3",
      "version": "3.7.1"
    },
    "colab": {
      "provenance": [],
      "include_colab_link": true
    }
  },
  "nbformat": 4,
  "nbformat_minor": 0
}