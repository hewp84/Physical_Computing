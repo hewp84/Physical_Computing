{
 "cells": [
  {
   "cell_type": "markdown",
   "metadata": {
    "colab_type": "text",
    "id": "view-in-github"
   },
   "source": [
    "<a href=\"https://colab.research.google.com/github/hewp84/Physical_Computing/blob/main/documents/Python/Lesson_2_1_python_variables.ipynb\" target=\"_parent\"><img src=\"https://colab.research.google.com/assets/colab-badge.svg\" alt=\"Open In Colab\"/></a>"
   ]
  },
  {
   "cell_type": "markdown",
   "metadata": {
    "id": "lSxaQXu9CBiz"
   },
   "source": [
    "# Basics of Python: Variables \n",
    "\n",
    "Let's review using variables in Python here. \n",
    "\n",
    "Please run each cell and check the results.\n",
    "\n",
    "<b> Indentation of codes <u>matters</u> in Python!</b> \n",
    "\n",
    "In this notebook, each line of code should start from the left without any indentation. Otherwise, you will get a syntax error.\n",
    "\n",
    "Comments can be indented.\n",
    "\n",
    "The codes belonging to a conditional or loop statement or a function/procedure are indented. We will see them later."
   ]
  },
  {
   "cell_type": "code",
   "execution_count": null,
   "metadata": {
    "id": "SzDujCVwCBi0"
   },
   "outputs": [],
   "source": [
    "# This is a comment\n",
    "# A comment is used for explanations/descriptions/etc.\n",
    "# Comments do not affect the programs"
   ]
  },
  {
   "cell_type": "code",
   "execution_count": null,
   "metadata": {
    "id": "hFcxavFiCBi2"
   },
   "outputs": [],
   "source": [
    "# let's define an integer variable named a\n",
    "a = 5\n",
    "\n",
    "# let's print its value\n",
    "print(a)"
   ]
  },
  {
   "cell_type": "code",
   "execution_count": null,
   "metadata": {
    "id": "J7w4E3nLCBi2"
   },
   "outputs": [],
   "source": [
    "# let's define three integer variables named a, b, and c\n",
    "a = 3\n",
    "b = 4\n",
    "c = a + b # summation of a and b\n",
    "\n",
    "# let's print their values together \n",
    "print(a,b,c)\n",
    "# a single space will automatically appear in between"
   ]
  },
  {
   "cell_type": "code",
   "execution_count": null,
   "metadata": {
    "id": "8F_2C-6aCBi3"
   },
   "outputs": [],
   "source": [
    "# let's print their values in reverse order\n",
    "print(c,b,a)"
   ]
  },
  {
   "cell_type": "code",
   "execution_count": null,
   "metadata": {
    "id": "vxTJLoSPCBi4"
   },
   "outputs": [],
   "source": [
    "# let's print their summation and multiplication\n",
    "print(a+b+c,a*b*c)"
   ]
  },
  {
   "cell_type": "code",
   "execution_count": null,
   "metadata": {
    "id": "2rAOBq1tCBi4"
   },
   "outputs": [],
   "source": [
    "# let's define variables with string/text values\n",
    "\n",
    "hw = \"hello world\" # we can use double quotes\n",
    "hpc = 'hello physical computing' # we can use single quotes\n",
    "\n",
    "# let's print them\n",
    "print(hw)\n",
    "print(hpc)"
   ]
  },
  {
   "cell_type": "code",
   "execution_count": null,
   "metadata": {
    "id": "vHEnJQNfCBi5"
   },
   "outputs": [],
   "source": [
    "# let's print them together by inserting another string in between\n",
    "print(hw,\"and\",hpc)"
   ]
  },
  {
   "cell_type": "code",
   "execution_count": null,
   "metadata": {
    "id": "m1XfcrRtCBi-"
   },
   "outputs": [],
   "source": [
    "# let's concatenate a few strings\n",
    "d = \"Hello \" + 'World' + \" and \" + 'Physical ' + \"Computing\" \n",
    "\n",
    "# let's print the result\n",
    "print(d)"
   ]
  },
  {
   "cell_type": "code",
   "execution_count": null,
   "metadata": {
    "id": "cTqiZoD9CBi_"
   },
   "outputs": [],
   "source": [
    "# let's print numeric and string values together\n",
    "print(\"a =\",a,\", b =\",b,\", a+b =\",a+b)"
   ]
  },
  {
   "cell_type": "code",
   "execution_count": null,
   "metadata": {
    "id": "cvuidi0VCBjB"
   },
   "outputs": [],
   "source": [
    "# let's subtract two numbers\n",
    "d = a-b\n",
    "print(a,b,d)"
   ]
  },
  {
   "cell_type": "code",
   "execution_count": null,
   "metadata": {
    "id": "zZseS9HJCBjB"
   },
   "outputs": [],
   "source": [
    "# let's divide two numbers\n",
    "d = a/b\n",
    "print(a,b,d)"
   ]
  },
  {
   "cell_type": "code",
   "execution_count": null,
   "metadata": {
    "id": "l0AvCH9-CBjC"
   },
   "outputs": [],
   "source": [
    "# let's divide integers over integers\n",
    "# the result is always an integer (with possible integer remainder)\n",
    "d = 33 // 6\n",
    "print(d)"
   ]
  },
  {
   "cell_type": "code",
   "execution_count": null,
   "metadata": {
    "id": "kKkSlRbLCBjC"
   },
   "outputs": [],
   "source": [
    "# reminder/mod operator\n",
    "r = 33 % 6 \n",
    "# 33 mod 6 = 3\n",
    "# or when 33 is divided by 6 over integers, the reminder is 3\n",
    "# 33 = 5 * 6 + 3\n",
    "\n",
    "# let's print the result\n",
    "print(r) "
   ]
  },
  {
   "cell_type": "code",
   "execution_count": null,
   "metadata": {
    "id": "q_21DI67CBjD"
   },
   "outputs": [],
   "source": [
    "# Booleen variables\n",
    "t = True\n",
    "f = False\n",
    "\n",
    "# let's print their values\n",
    "print(t,f)"
   ]
  },
  {
   "cell_type": "code",
   "execution_count": null,
   "metadata": {
    "id": "oC2h-g-mCBjD"
   },
   "outputs": [],
   "source": [
    "# print their negations\n",
    "print(not t) \n",
    "print(\"the negation of\",t,\"is\",not t)\n",
    "\n",
    "print(not f)\n",
    "print(\"the negation of\",f,\"is\",not f)"
   ]
  },
  {
   "cell_type": "code",
   "execution_count": null,
   "metadata": {
    "id": "VaJYQTnbCBjE"
   },
   "outputs": [],
   "source": [
    "# define a float variable\n",
    "\n",
    "d = -3.4444\n",
    "\n",
    "# let's print its value and its square\n",
    "print(d, d * d)"
   ]
  },
  {
   "cell_type": "markdown",
   "metadata": {
    "id": "LbJQ_wimCBjE"
   },
   "source": [
    "Let's use parentheses in our expressions.\n",
    "\n",
    "$(23 * 13)-(11 * 15) $\n",
    "\n",
    "Here $*$ represents the multiplication operator"
   ]
  },
  {
   "cell_type": "code",
   "execution_count": null,
   "metadata": {
    "id": "MTCso6_MCBjE"
   },
   "outputs": [],
   "source": [
    "e = (23*13) - (11 * 15)\n",
    "print(e)"
   ]
  },
  {
   "cell_type": "markdown",
   "metadata": {
    "id": "6M6VamnQCBjF"
   },
   "source": [
    "Let's consider a more complex expression.\n",
    "\n",
    "$  -3 * (123- 34 * 11 ) + 4 * (5+ (23 * 15) ) $"
   ]
  },
  {
   "cell_type": "code",
   "execution_count": null,
   "metadata": {
    "id": "e-KBHDQzCBjF"
   },
   "outputs": [],
   "source": [
    "# we can use more than one variable\n",
    "\n",
    "# left is the variable for the left part of the expression\n",
    "# we start with the multiplication inside the parentheses\n",
    "left = 34*11\n",
    "# we continue with the substruction inside the parentheses\n",
    "#     we reuse the variable named left\n",
    "left = 123 - left\n",
    "# we reuse left again for the multiplication with -3\n",
    "left = -3 * left\n",
    "\n",
    "# right is the variable for the right part of the expression\n",
    "# we use the same idea here\n",
    "right = 23 * 15\n",
    "right = 5 + right\n",
    "right = 4 * right\n",
    "\n",
    "# at the end, we use left for the result\n",
    "left = left + right\n",
    "\n",
    "# let's print the result\n",
    "print(left)"
   ]
  },
  {
   "cell_type": "markdown",
   "metadata": {
    "id": "VhKwKb2_CBjF"
   },
   "source": [
    "### Exercise 1\n",
    "\n",
    "Define three variables $n1$, $n2$, and $n3$, and set their values to $3$, $-4$, and $6$.\n",
    "\n",
    "Define a new variable $r1$, and set its value to $ (2 \\cdot n1 + 3 \\cdot n2) \\cdot 2 - 5 \\cdot n3 $, where $\\cdot$ represents the multiplication operator. \n",
    "\n",
    "<i>The multiplication operator in python (and in many other programming languages) is *.</i>\n",
    "\n",
    "Then, print the value of $r1$. \n",
    "\n",
    "As you may verify it by yourself,  the result should be $-42$."
   ]
  },
  {
   "cell_type": "code",
   "execution_count": null,
   "metadata": {
    "id": "TdgM5UybCBjG"
   },
   "outputs": [],
   "source": [
    "#\n",
    "# your solution is here\n",
    "#\n"
   ]
  },
  {
   "cell_type": "markdown",
   "metadata": {
    "id": "a-09qbb5CBjG"
   },
   "source": [
    "### Exercise 2\n",
    "\n",
    "By using the same variables (you may not need to define them again), please print the following value\n",
    "$$\n",
    "    \\dfrac{(n1-n2)\\cdot(n2-n3)}{(n3-n1)\\cdot(n3+1)} \n",
    "$$\n",
    "\n",
    "You should see $ -3.3333333333333335 $ as the outcome."
   ]
  },
  {
   "cell_type": "code",
   "execution_count": null,
   "metadata": {
    "id": "nMe4wDmqCBjG"
   },
   "outputs": [],
   "source": [
    "#\n",
    "# your solution is here\n",
    "#\n"
   ]
  },
  {
   "cell_type": "markdown",
   "metadata": {
    "id": "cBh8yb8kCBjH"
   },
   "source": [
    "### Exercise 3\n",
    "\n",
    "Define variables N and S, and set their values to your name and surname. \n",
    "\n",
    "Then, print the values of N and S inside the sentence \"Hello name surname. Welcome to Physical Computing\"."
   ]
  },
  {
   "cell_type": "code",
   "execution_count": null,
   "metadata": {
    "id": "CyuxJiicCBjH"
   },
   "outputs": [],
   "source": [
    "#\n",
    "# your solution is here\n",
    "#\n"
   ]
  }
 ],
 "metadata": {
  "colab": {
   "include_colab_link": true,
   "name": "Python08_Basics_Variables.ipynb",
   "provenance": []
  },
  "kernelspec": {
   "display_name": "Python 3 (ipykernel)",
   "language": "python",
   "name": "python3"
  },
  "language_info": {
   "codemirror_mode": {
    "name": "ipython",
    "version": 3
   },
   "file_extension": ".py",
   "mimetype": "text/x-python",
   "name": "python",
   "nbconvert_exporter": "python",
   "pygments_lexer": "ipython3",
   "version": "3.9.13"
  }
 },
 "nbformat": 4,
 "nbformat_minor": 4
}
