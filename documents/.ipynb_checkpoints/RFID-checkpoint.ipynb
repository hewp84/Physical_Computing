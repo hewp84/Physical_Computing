{
 "cells": [
  {
   "cell_type": "markdown",
   "id": "0441c253-f6a6-49ae-b6f7-e01d12970b04",
   "metadata": {},
   "source": [
    "# Using an RFID Card Reader\n",
    "For this tutorial, we are assuming to be working with an RFID-RC522 module. The RFID RC522 module with 8 ports uses an SPI interface. Here's how to set up the RC522 module with SPI on a Raspberry Pi 4:\n",
    "\n",
    "1. Install the `MFRC522-python` library, if you haven't already done so:"
   ]
  },
  {
   "cell_type": "code",
   "execution_count": null,
   "id": "76a4c065-fd70-4d04-a966-f0ff882a028d",
   "metadata": {},
   "outputs": [],
   "source": [
    "git clone https://github.com/pimylifeup/MFRC522-python.git\n",
    "cd MFRC522-python\n",
    "sudo python3 setup.py install\n"
   ]
  },
  {
   "cell_type": "markdown",
   "id": "67449692-6ced-46ee-b78c-75579838785a",
   "metadata": {},
   "source": [
    "2. Enable SPI on your Raspberry Pi, if you haven't already done so:"
   ]
  },
  {
   "cell_type": "code",
   "execution_count": null,
   "id": "7b7422df-47b4-4730-bff2-1839a99bbcd1",
   "metadata": {},
   "outputs": [],
   "source": [
    "sudo raspi-config"
   ]
  },
  {
   "cell_type": "markdown",
   "id": "b71806fd-2db6-4ce8-9d3a-3c5af6de9e9a",
   "metadata": {},
   "source": [
    "* Navigate to \"Interface Options\" and then to \"SPI.\"\n",
    "* Make sure SPI is enabled. If not, enable it, exit the configuration tool, and reboot the Raspberry Pi.\n",
    "\n",
    "3. Connect the RC522 module to the Raspberry Pi:\n",
    "\n",
    "* VCC (RC522) to 3.3V (Pin 1) on the Raspberry Pi\n",
    "* GND (RC522) to GND (Pin 6) on the Raspberry Pi\n",
    "* MISO (RC522) to MISO (Pin 21) on the Raspberry Pi\n",
    "* MOSI (RC522) to MOSI (Pin 19) on the Raspberry Pi\n",
    "* SCK (RC522) to SCLK (Pin 23) on the Raspberry Pi\n",
    "* SDA (RC522) to CE0 (Pin 24) on the Raspberry Pi\n",
    "* RST (RC522) to a free GPIO pin on the Raspberry Pi (e.g., Pin 22 / GPIO 25)\n",
    "\n",
    "4. Create a new Python file, for example, `read_rfid_rc522_spi.py`, and open it with a text editor. Copy and paste the following code:"
   ]
  },
  {
   "cell_type": "code",
   "execution_count": null,
   "id": "88e0ef49-00ae-4cbe-8f81-d25a1c1d5d37",
   "metadata": {},
   "outputs": [],
   "source": [
    "import RPi.GPIO as GPIO\n",
    "from mfrc522 import SimpleMFRC522\n",
    "\n",
    "reader = SimpleMFRC522()\n",
    "\n",
    "print(\"Waiting for RFID/NFC card...\")\n",
    "\n",
    "try:\n",
    "    while True:\n",
    "        id, text = reader.read()\n",
    "        print(f\"Card ID: {id}\")\n",
    "        print(f\"Text: {text}\")\n",
    "finally:\n",
    "    GPIO.cleanup()\n"
   ]
  },
  {
   "cell_type": "markdown",
   "id": "3eaca262-51ba-4d6d-b425-02074351294e",
   "metadata": {},
   "source": [
    "The script will wait for an RFID card to be detected. When a card is detected, its ID and any text stored on the card will be printed."
   ]
  },
  {
   "cell_type": "code",
   "execution_count": null,
   "id": "0cb9d891-66af-43b5-8d4e-80206d9178f9",
   "metadata": {},
   "outputs": [],
   "source": []
  }
 ],
 "metadata": {
  "kernelspec": {
   "display_name": "Python 3 (ipykernel)",
   "language": "python",
   "name": "python3"
  },
  "language_info": {
   "codemirror_mode": {
    "name": "ipython",
    "version": 3
   },
   "file_extension": ".py",
   "mimetype": "text/x-python",
   "name": "python",
   "nbconvert_exporter": "python",
   "pygments_lexer": "ipython3",
   "version": "3.9.13"
  }
 },
 "nbformat": 4,
 "nbformat_minor": 5
}
