{
 "cells": [
  {
   "cell_type": "markdown",
   "id": "4042011d-2943-4b4a-970d-39cdc8ea0c89",
   "metadata": {},
   "source": [
    "# Physical Computing Final Project"
   ]
  },
  {
   "cell_type": "markdown",
   "id": "bcbd779e-0664-4b5d-8eaa-1c6a873a182a",
   "metadata": {},
   "source": [
    "## Engineering Design Process\n",
    "\n",
    "![Image](https://raw.githubusercontent.com/hewp84/Physical_Computing/main/img/edp.png)\n",
    "\n",
    "### S1. Ask: \n",
    "In physical computing, the ask stage involves identifying the problem or challenge that needs to be solved. This could be something as simple as building a prototype for a new device or developing a more complex system that solves a specific problem. Asking the right questions at this stage is critical to understanding the problem and determining the project's goals and constraints.\n",
    "\n",
    "### S2.Imagine: \n",
    "Once the problem has been identified, the imagine stage involves brainstorming and generating possible solutions. This is the time to be creative and think outside the box, exploring different ideas and approaches to solving the problem. During this stage, use tools like mind maps, sketches, or other ideation techniques to generate ideas.\n",
    "\n",
    "### S3. Plan: \n",
    "After generating potential solutions, the plan stage involves selecting the best idea and developing a detailed plan for building a prototype or final product. This includes identifying the necessary materials, tools, and resources, and creating a timeline for the project. You can use circuit blueprint tools such as Fritzing.\n",
    "\n",
    "### S4. Create: \n",
    "With a solid plan in place, the create stage involves building a physical prototype or final product. This involves programming a microcontroller (RBPi, RBPi Pico, Arduino, etc), assembling electronic components, or constructing a mechanical device. During this stage, you may use tools like 3D printers, laser cutters, and other fabrication equipment.\n",
    "\n",
    "### S5. Test: \n",
    "Once the prototype or final product has been created, the test stage involves evaluating its performance and functionality. This could involve running tests to ensure that the device operates as intended, identifying any issues or bugs that need to be addressed, and collecting data on the device's performance.\n",
    "\n",
    "### S6. Improve: \n",
    "Based on the testing results, the improve stage involves making any necessary changes or modifications to the prototype or final product. This could involve adjusting the code, tweaking the hardware, or refining the design to improve its performance or usability. The improve stage is an iterative process, with testing and refining the solutions until meeting the project's goals and constraints."
   ]
  },
  {
   "cell_type": "markdown",
   "id": "b223d1b1-e58b-4cd2-b51d-0683507dfe04",
   "metadata": {},
   "source": [
    "## Outline of the Final Report\n",
    "\n",
    "### I. Introduction\n",
    "\n",
    "* Provide an overview of the project and its objectives\n",
    "* Motivation of the project\n",
    "* Explain the scope and limitations of the project\n",
    "\n",
    "### II. Background and Related Work\n",
    "\n",
    "* Present a brief literature review of similar projects and/or solutions\n",
    "* Outline the relevant technologies and tools that will be used in the project\n",
    "\n",
    "### III. Methodology and Design\n",
    "\n",
    "* Present the technical specifications of the project, including the software and hardware components\n",
    "* Describe the overall architecture and functionality of the system (modular blocks)\n",
    "\n",
    "### IV. Implementation\n",
    "\n",
    "* Provide a detailed account of the development process, including challenges and solutions\n",
    "* Showcase the iterations of the product, including any modifications or improvements made throughout the project until its culmination\n",
    "* Discuss the performance of the system and its usability\n",
    "\n",
    "### V. Results and Evaluation\n",
    "\n",
    "* Analyze the results of the project, including any data collected or user feedback\n",
    "* Evaluate the effectiveness and/or efficiency of the solution\n",
    "\n",
    "### VI. Conclusion and Future Work\n",
    "\n",
    "* Summarize the results and contributions of the project\n",
    "* Discuss any limitations or potential for future improvements\n",
    "\n",
    "### VII. References\n",
    "\n",
    "* List all sources used in the project, including research papers, technical manuals, and online resources\n",
    "\n",
    "### VIII. Appendices (Optional)\n",
    "\n",
    "* Include any additional information that may be useful, such as code scripts, blueprints, etc.\n"
   ]
  },
  {
   "cell_type": "code",
   "execution_count": null,
   "id": "2742475c-55fb-42b7-9b8a-d1f8e6d58ce4",
   "metadata": {},
   "outputs": [],
   "source": []
  }
 ],
 "metadata": {
  "kernelspec": {
   "display_name": "Python 3 (ipykernel)",
   "language": "python",
   "name": "python3"
  },
  "language_info": {
   "codemirror_mode": {
    "name": "ipython",
    "version": 3
   },
   "file_extension": ".py",
   "mimetype": "text/x-python",
   "name": "python",
   "nbconvert_exporter": "python",
   "pygments_lexer": "ipython3",
   "version": "3.9.13"
  }
 },
 "nbformat": 4,
 "nbformat_minor": 5
}
